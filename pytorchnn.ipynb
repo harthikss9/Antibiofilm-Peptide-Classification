{
 "cells": [
  {
   "cell_type": "code",
   "execution_count": 1,
   "id": "fcad79b3-fc1e-4468-8c57-a113d267c944",
   "metadata": {},
   "outputs": [],
   "source": [
    "import pandas as pd\n",
    "import torch\n",
    "from torch.utils.data import DataLoader, TensorDataset\n",
    "from sklearn.model_selection import train_test_split\n",
    "from sklearn.feature_extraction.text import CountVectorizer\n",
    "\n",
    "# Load data\n",
    "train_df = pd.read_csv('train.dat', delimiter='\\t', names=[\"labels\", \"sequence\"])\n",
    "test_df = pd.read_csv('test.dat', delimiter='\\t', names=[\"sequence\"])\n",
    "\n",
    "# Vectorize sequences\n",
    "vectorizer = CountVectorizer(analyzer='char', ngram_range=(1, 4))\n",
    "X_train = vectorizer.fit_transform(train_df['sequence']).toarray()\n",
    "# Convert labels from -1 and 1 to 0 and 1\n",
    "y_train = ((train_df['labels'] + 1) / 2).values  # Converts -1 to 0 and 1 to 1\n",
    "\n",
    "X_test = vectorizer.transform(test_df['sequence']).toarray()\n",
    "\n",
    "# Convert to PyTorch tensors\n",
    "X_train_tensor = torch.tensor(X_train, dtype=torch.float32)\n",
    "y_train_tensor = torch.tensor(y_train, dtype=torch.float32).reshape(-1, 1)\n",
    "X_test_tensor = torch.tensor(X_test, dtype=torch.float32)\n",
    "\n",
    "# Create Datasets and DataLoaders\n",
    "train_dataset = TensorDataset(X_train_tensor, y_train_tensor)\n",
    "train_loader = DataLoader(train_dataset, batch_size=64, shuffle=True)\n"
   ]
  },
  {
   "cell_type": "code",
   "execution_count": 2,
   "id": "f1dd0d84-4f3e-4567-b463-98d6ca7319bb",
   "metadata": {},
   "outputs": [],
   "source": [
    "import torch.nn as nn\n",
    "\n",
    "class SequenceClassifier(nn.Module):\n",
    "    def __init__(self, num_features):\n",
    "        super(SequenceClassifier, self).__init__()\n",
    "        self.fc1 = nn.Linear(num_features, 128)\n",
    "        self.relu = nn.ReLU()\n",
    "        self.fc2 = nn.Linear(128, 64)\n",
    "        self.relu2 = nn.ReLU()\n",
    "        self.fc3 = nn.Linear(64, 1)\n",
    "        self.sigmoid = nn.Sigmoid()  # Use Sigmoid for binary classification\n",
    "\n",
    "    def forward(self, x):\n",
    "        x = self.fc1(x)\n",
    "        x = self.relu(x)\n",
    "        x = self.fc2(x)\n",
    "        x = self.relu2(x)\n",
    "        x = self.fc3(x)\n",
    "        x = self.sigmoid(x)\n",
    "        return x\n",
    "\n",
    "model = SequenceClassifier(num_features=X_train.shape[1])\n"
   ]
  },
  {
   "cell_type": "code",
   "execution_count": 3,
   "id": "7f934bec-bb00-47e3-b87c-0b1205cc634a",
   "metadata": {},
   "outputs": [
    {
     "name": "stdout",
     "output_type": "stream",
     "text": [
      "Epoch 1, Loss: 0.24848389625549316\n",
      "Epoch 2, Loss: 0.062069643288850784\n",
      "Epoch 3, Loss: 0.021208621561527252\n",
      "Epoch 4, Loss: 0.0073590646497905254\n",
      "Epoch 5, Loss: 0.0023329881951212883\n",
      "Epoch 6, Loss: 0.0020144085865467787\n",
      "Epoch 7, Loss: 0.00046521524200215936\n",
      "Epoch 8, Loss: 0.00039137215935625136\n",
      "Epoch 9, Loss: 0.00016243994468823075\n",
      "Epoch 10, Loss: 0.00017104078142438084\n"
     ]
    }
   ],
   "source": [
    "import torch.optim as optim\n",
    "\n",
    "criterion = nn.BCELoss()\n",
    "optimizer = optim.Adam(model.parameters(), lr=0.001)\n",
    "\n",
    "# Training loop\n",
    "num_epochs = 10\n",
    "for epoch in range(num_epochs):\n",
    "    for inputs, labels in train_loader:\n",
    "        optimizer.zero_grad()\n",
    "        outputs = model(inputs)\n",
    "        loss = criterion(outputs, labels)\n",
    "        loss.backward()\n",
    "        optimizer.step()\n",
    "    print(f'Epoch {epoch+1}, Loss: {loss.item()}')\n"
   ]
  },
  {
   "cell_type": "code",
   "execution_count": 9,
   "id": "2c3e5065-0344-4d42-ba48-84db0b4e50af",
   "metadata": {},
   "outputs": [
    {
     "name": "stdout",
     "output_type": "stream",
     "text": [
      "Epoch 1, Train Loss: 0.13789811730384827, Val Loss: 0.18859618306159973, Val MCC: 0.0\n",
      "Epoch 2, Train Loss: 0.04857424646615982, Val Loss: 0.09058097153902053, Val MCC: 0.8984015288974675\n",
      "Epoch 3, Train Loss: 0.017839808017015457, Val Loss: 0.051862097531557086, Val MCC: 0.902241594022416\n",
      "Epoch 4, Train Loss: 0.00837368331849575, Val Loss: 0.04152483530342579, Val MCC: 0.9253957342682618\n",
      "Epoch 5, Train Loss: 0.004786792676895857, Val Loss: 0.040681752283126114, Val MCC: 0.9502139849488279\n",
      "Epoch 6, Train Loss: 0.003310178406536579, Val Loss: 0.04159699734300375, Val MCC: 0.9502139849488279\n",
      "Epoch 7, Train Loss: 0.0025816955603659153, Val Loss: 0.04235920375213027, Val MCC: 0.9502139849488279\n",
      "Epoch 8, Train Loss: 0.002181407529860735, Val Loss: 0.04272624896839261, Val MCC: 0.9502139849488279\n",
      "Epoch 9, Train Loss: 0.00181833584792912, Val Loss: 0.043630997510626914, Val MCC: 0.9502139849488279\n",
      "Epoch 10, Train Loss: 0.0016453900607302785, Val Loss: 0.04383325569797307, Val MCC: 0.9502139849488279\n"
     ]
    }
   ],
   "source": [
    "from sklearn.metrics import matthews_corrcoef\n",
    "\n",
    "# Split the training data to include a validation set\n",
    "X_train_val, X_val, y_train_val, y_val = train_test_split(X_train_tensor, y_train_tensor, test_size=0.2, random_state=42)\n",
    "\n",
    "# Create DataLoaders for the training and validation sets\n",
    "train_dataset = TensorDataset(X_train_val, y_train_val)\n",
    "train_loader = DataLoader(train_dataset, batch_size=64, shuffle=True)\n",
    "\n",
    "validation_dataset = TensorDataset(X_val, y_val)\n",
    "validation_loader = DataLoader(validation_dataset, batch_size=64, shuffle=False)\n",
    "\n",
    "# Reinitialize the model to ensure clean start\n",
    "model = SequenceClassifier(num_features=X_train.shape[1])\n",
    "\n",
    "# Setup the optimizer and loss function\n",
    "optimizer = optim.Adam(model.parameters(), lr=0.001)\n",
    "criterion = nn.BCELoss()\n",
    "\n",
    "# Training and validation loop\n",
    "num_epochs = 10\n",
    "for epoch in range(num_epochs):\n",
    "    model.train()\n",
    "    for inputs, labels in train_loader:\n",
    "        optimizer.zero_grad()\n",
    "        outputs = model(inputs)\n",
    "        loss = criterion(outputs, labels)\n",
    "        loss.backward()\n",
    "        optimizer.step()\n",
    "    \n",
    "    # Validation loop\n",
    "    model.eval()\n",
    "    val_losses = []\n",
    "    val_predictions = []\n",
    "    val_targets = []\n",
    "    with torch.no_grad():\n",
    "        for inputs, labels in validation_loader:\n",
    "            outputs = model(inputs)\n",
    "            loss = criterion(outputs, labels)\n",
    "            val_losses.append(loss.item())\n",
    "            val_predictions.extend(outputs.squeeze().tolist())\n",
    "            val_targets.extend(labels.squeeze().tolist())\n",
    "\n",
    "    # Calculate validation metrics\n",
    "    val_predictions_bin = torch.tensor(val_predictions) > 0.5  # Binarize predictions\n",
    "    val_targets = torch.tensor(val_targets)\n",
    "    average_val_loss = sum(val_losses) / len(val_losses)\n",
    "    mcc = matthews_corrcoef(val_targets.numpy(), val_predictions_bin.numpy())\n",
    "\n",
    "    print(f'Epoch {epoch+1}, Train Loss: {loss.item()}, Val Loss: {average_val_loss}, Val MCC: {mcc}')\n"
   ]
  },
  {
   "cell_type": "code",
   "execution_count": 10,
   "id": "20a28e34-db65-43f4-af0d-12e48723fca8",
   "metadata": {},
   "outputs": [],
   "source": [
    "# Step 5: Predict on Test Data\n",
    "model.eval()\n",
    "with torch.no_grad():\n",
    "    predictions = model(X_test_tensor)\n",
    "    predicted_labels = (predictions > 0.5).float() * 2 - 1  # Using 0.5 as the threshold and adjusting to -1 and 1\n",
    "\n",
    "# Optionally, save these predictions to a CSV file or similar\n",
    "predicted_labels_np = predicted_labels.numpy()\n",
    "np.savetxt(\"test_predictions.txt\", predicted_labels_np, delimiter=\",\", fmt=\"%d\")\n",
    "\n"
   ]
  },
  {
   "cell_type": "code",
   "execution_count": null,
   "id": "95bb42bf-72bc-472b-873e-bc716f5bd612",
   "metadata": {},
   "outputs": [],
   "source": []
  }
 ],
 "metadata": {
  "kernelspec": {
   "display_name": "Python 3 (ipykernel)",
   "language": "python",
   "name": "python3"
  },
  "language_info": {
   "codemirror_mode": {
    "name": "ipython",
    "version": 3
   },
   "file_extension": ".py",
   "mimetype": "text/x-python",
   "name": "python",
   "nbconvert_exporter": "python",
   "pygments_lexer": "ipython3",
   "version": "3.9.19"
  }
 },
 "nbformat": 4,
 "nbformat_minor": 5
}
